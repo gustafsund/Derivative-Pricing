{
 "cells": [
  {
   "cell_type": "code",
   "execution_count": 23,
   "id": "1765de9b",
   "metadata": {},
   "outputs": [
    {
     "name": "stdout",
     "output_type": "stream",
     "text": [
      "imports done.\n"
     ]
    }
   ],
   "source": [
    "import numpy as np\n",
    "from scipy.special import binom\n",
    "print('imports done.')"
   ]
  },
  {
   "cell_type": "code",
   "execution_count": 127,
   "id": "862d7bc9",
   "metadata": {},
   "outputs": [],
   "source": [
    "def payoff_EC(K,ST):\n",
    "    if type(ST) == float or type(ST)==np.float64:\n",
    "        return max(ST-K,0)\n",
    "    else:\n",
    "\n",
    "        return np.maximum(ST-K*np.ones(len(ST)),np.zeros(len(ST)))\n",
    "    \n",
    "def payoff_ECPower(K,ST,p):\n",
    "    if type(ST) == float or type(ST)==np.float64:\n",
    "        return max(ST-K,0)**p\n",
    "    else:\n",
    "        return np.maximum(ST-K*np.ones(len(ST)),np.zeros(len(ST))**p)\n",
    "\n",
    "def payoff_AP(K,ST):\n",
    "    return max(K-ST,0)"
   ]
  },
  {
   "cell_type": "code",
   "execution_count": 123,
   "id": "1361a61d",
   "metadata": {},
   "outputs": [
    {
     "name": "stdout",
     "output_type": "stream",
     "text": [
      "[[ 90.         111.26799989 137.56186443]\n",
      " [  0.          72.79721041  90.        ]\n",
      " [  0.           0.          58.88259827]]\n"
     ]
    }
   ],
   "source": [
    "T = 1\n",
    "n = 2\n",
    "delta = T/n\n",
    "K = 100\n",
    "r = 0.05\n",
    "S0 = 90 \n",
    "sigma = 0.3\n",
    "\n",
    "u = np.exp(sigma*np.sqrt(delta))\n",
    "d = 1/u\n",
    "\n",
    "qu = (np.exp(r*delta)-d)/(u-d)\n",
    "qd = 1-qu\n",
    "\n",
    "binmat = np.zeros((n+1,n+1))\n",
    "\n",
    "for j in range(n+1):\n",
    "    for i in range(n+1):\n",
    "        if i <= j:\n",
    "            binmat[i,j] = S0*u**(j-i)*d**(i)\n",
    "print(binmat)"
   ]
  },
  {
   "cell_type": "code",
   "execution_count": 136,
   "id": "bf18fc84",
   "metadata": {},
   "outputs": [
    {
     "data": {
      "text/plain": [
       "1.2363111098437878"
      ]
     },
     "execution_count": 136,
     "metadata": {},
     "output_type": "execute_result"
    }
   ],
   "source": [
    "u"
   ]
  },
  {
   "cell_type": "code",
   "execution_count": 131,
   "id": "e6a80527",
   "metadata": {},
   "outputs": [
    {
     "name": "stdout",
     "output_type": "stream",
     "text": [
      "9.162192651066093\n"
     ]
    }
   ],
   "source": [
    "# Å 3.3\n",
    "price = 0.0\n",
    "for k in range(n+1):\n",
    "    price += binom(n,k)*qu**(n-k)*qd**k*payoff_ECPower(K,binmat[k,-1],1)\n",
    "price = price*np.exp(-r*T)\n",
    "print(price)\n"
   ]
  },
  {
   "cell_type": "code",
   "execution_count": 132,
   "id": "8a345d53",
   "metadata": {},
   "outputs": [
    {
     "name": "stdout",
     "output_type": "stream",
     "text": [
      "9.162192651066093\n"
     ]
    }
   ],
   "source": [
    "# RNVF\n",
    "price = 0.0\n",
    "for k in range(n+1):\n",
    "    price += binom(n,k)*qu**(n-k)*qd**k*payoff_EC(K,binmat[k,-1])\n",
    "price = price*np.exp(-r*T)\n",
    "print(price)"
   ]
  },
  {
   "cell_type": "code",
   "execution_count": 119,
   "id": "dd9b7f19",
   "metadata": {
    "scrolled": true
   },
   "outputs": [
    {
     "data": {
      "text/plain": [
       "array([[ 4.56030909,  8.28350001, 15.03339534, 27.25842123],\n",
       "       [ 0.        ,  0.29059823,  0.54338882,  1.01608122],\n",
       "       [ 0.        ,  0.        ,  0.        ,  0.        ],\n",
       "       [ 0.        ,  0.        ,  0.        ,  0.        ]])"
      ]
     },
     "execution_count": 119,
     "metadata": {},
     "output_type": "execute_result"
    }
   ],
   "source": [
    "# EC using nodes\n",
    "pricemat = np.zeros((n+1,n+1))\n",
    "pricemat[:,-1] = payoff_EC(K,binmat[:,-1])\n",
    "for k in range(n-1,-1,-1):\n",
    "    for j in range(k+1):\n",
    "        pricemat[j,k] = np.exp(-r*delta)*(qu*pricemat[j,k+1]+qd*pricemat[j+1,k+1])\n",
    "        \n",
    "pricemat"
   ]
  },
  {
   "cell_type": "code",
   "execution_count": null,
   "id": "cb7c326f",
   "metadata": {},
   "outputs": [],
   "source": []
  },
  {
   "cell_type": "code",
   "execution_count": null,
   "id": "94859d73",
   "metadata": {},
   "outputs": [],
   "source": []
  }
 ],
 "metadata": {
  "kernelspec": {
   "display_name": "Python 3",
   "language": "python",
   "name": "python3"
  },
  "language_info": {
   "codemirror_mode": {
    "name": "ipython",
    "version": 3
   },
   "file_extension": ".py",
   "mimetype": "text/x-python",
   "name": "python",
   "nbconvert_exporter": "python",
   "pygments_lexer": "ipython3",
   "version": "3.8.10"
  }
 },
 "nbformat": 4,
 "nbformat_minor": 5
}
